{
 "cells": [
  {
   "cell_type": "markdown",
   "metadata": {},
   "source": [
    "# Minkowski-Metriken\n",
    "\n",
    "Zur Familie der Minowski-Metriken gehören einige der wichtigsten und am häufigsten verwendeten Metriken. \n",
    "\n",
    "Sie sind von den Minkowski-Normen (auch p-Normen gennant) induzierte Metriken und stellen eine verallgemeinerung des euklidischen Abstands dar. \n",
    "\n",
    "\n",
    "## Definition\n",
    "Sei $p \\in [1, \\infty) $ und $x, y \\in \\mathbb{R}^n $. Dann ist \n",
    "\n",
    "\n",
    "$$ \\delta_p(x,y) = \\left( \\sum_{i=1}^n |x_i - y_i|^p  \\right)^{\\frac{1}{p}} $$  \n",
    "\n",
    "die (von der p-Norm induzierte) Minkowski-Distanz. \n",
    "\n",
    "Für $p = \\infty$ gilt: \n",
    "\n",
    "$$\\delta_\\infty (x,y) = max(|x_i - y_i |)$$\n",
    "\n",
    "```{dropdown} Mathematische Notation\n",
    "$ [1, \\infty) $ ist das halboffene Intervall, dass alle reellen Zahlen $r: 1 \\leq r < \\infty$ beinhaltet. \n",
    "Eine eckige  klammer bedeutet, dass der Randpunkt dabei ist, eine runde hingegen, dass der Randpunkt nicht dabei ist. \n",
    "\n",
    "$\\mathbb{R}^n$ ist die Menge der n-dimensionalen reelwertigen Vektoren, also aller $[x_1, x_2, .... x_n]$ mit $\\forall i \\in \\{1, 2, ... , n \\}: x_i \\in \\mathbb{R}$\n",
    "\n",
    "$\\sum_{i=1}^n$ ist die Summe über den Index $\\{1, 2, ... , n \\} $\n",
    "\n",
    "```\n",
    "In den [Beweisen](MinkowskiBeweise) findet sich der Beweis dafür, dass die Definition für $p = \\infty$ sinnvoll definiert ist.\n",
    "\n",
    "\n",
    "\n",
    "```{admonition} $\\mathbb{C}$ und Teilmengen des $\\mathbb{R}^n$\n",
    ":class: tip\n",
    "Die p-Normen und von ihnen induzierte Metriken sind auch auf den komplexen Zahlen definiert. Da wir jedoch selten mit diesen zu tun haben (werden), habe ich der Einfachheit halber hier nur den reellen Fall angeführt. \n",
    "\n",
    "Ebenfalls sind diese Metriken auf Teilmengen des $\\mathbb{R}^n$ (bspw. $\\mathbb{N}^n$ und $\\mathbb{Z}^n$ ) und $\\mathbb{C}^n$ definiert. \n",
    "```\n",
    "\n",
    "\n",
    "```{admonition} $p < 1$\n",
    ":class: warning\n",
    "Es ist zwar möglich, hier $p \\in (0, 1) $ zu wählen, jedoch verliert in diesem Fall die Dreiecksungleichung ihre Gültigkeit, da die Einheitssphäre dann nicht mehr konvex ist.  \n",
    "Deswegen ist für den Fall $p < 1$ die Minkowski-Distanz keine Metrik mehr und kein sinnvoller Abstand. \n",
    "\n",
    "Es wurde von manchen Autoren zwar behauptet, man könne durch Verwendung von den bei $p \\in (0, 1) $ entstehenden Quasinormen in hoch-Dimensionalen Problemen bessere Klassifikationsergebnisse erzielen, was jedoch bei systematischer Prüfung nicht bestätigt werden konnte{cite:ps}`e22101105`.   \n",
    "```\n",
    "\n",
    "```{admonition} Hinweis\n",
    ":class: note\n",
    "Die ursprüngliche Konzeption diente nicht dem Zweck eine Metrik zu definieren.\n",
    "\n",
    "In der [ursprünglichen Veröffentlichung](https://gallica.bnf.fr/ark:/12148/bpt6k99643x/f128.item){cite:ps}`minkowski1910` wurde eine etwas andere Formulierung verwendet. Es handelt sich um die Minkowski-Norm zuzüglich eines Mittelungsfaktors; Ursprünglich wurde sie verwendet um die Minkowski'sche Ungleichung zu beweisen. \n",
    "Diese Ungleichung ist eine Verallgemeinerung der Dreiecksungleichung für Lebesgue-Räume.\n",
    " \n",
    "```\n"
   ]
  },
  {
   "cell_type": "markdown",
   "metadata": {},
   "source": [
    "## wichtige Spezialfälle\n",
    "\n",
    "##### $p = 2$  (euklidische Distanz)\n",
    "Für $p =2$ ist die Minkowski-Distanz nichts anderes als die euklidische; Sie entspricht der \"Luftlinie\" beim Messen des Abstandes zweier Punkte und ist die für uns intuitivste. \n",
    "\n",
    "Die Sinnhaftigkeit und Interpretabilität des euklidischen Abstandes setzt jedoch voraus, dass der Pfad im gegebenen Raum wirklich durchschritten werden kann. \n",
    "\n",
    "##### $p = 1$  (Manhattan)\n",
    "Für $p =1$ ergibt sich \n",
    "\\begin{equation*} \\delta(x,y) = \\sum_{i=1}^n |x_i - y_i| \\end{equation*}\n",
    ", also die Summe der Betragsdifferenzen. \n",
    "\n",
    "Dies ist die aus der Summennorm induzierte, uns bereits bekannte Manhattan-Distanz. \n",
    "\n",
    "Sie ist der euklidischen Norm auf einem Gitter nicht unähnlich, aber eine viel sinnvollere wenn es keine durchquerbare \"Luftlinie\" im Raum zwischen den einzelnen Punkten gibt. Ihre Interpretabilität ist auch bei kategorischen Daten sehr gut, da sie auch in diesem Fall die Länge durchlaufbarer Pfade beschreibt. .\n",
    "\n"
   ]
  },
  {
   "cell_type": "markdown",
   "metadata": {},
   "source": [
    "##### $p = \\infty $  (Chebyshev Distanz)\n",
    "Für $p= \\infty$ erhalten wir die Chebyshev-Distanz, die das Betragsmaximum der Koordinaten-Abstände darstellt.  \n",
    "\n",
    "Die Chebishev Distanz \"bestraft\" im Gegensatz zur Manhattan Distanz Abstände in der Diagonale nicht. \n",
    "\n",
    "Diese Metrik wird bspw. in der Optimierung logistischer Systeme verwendet{cite:ps}`langevin2005logistics` . "
   ]
  },
  {
   "cell_type": "markdown",
   "metadata": {},
   "source": [
    "##### Vergleich der Metriken auf diskreten Gittern"
   ]
  },
  {
   "cell_type": "markdown",
   "metadata": {},
   "source": [
    "\n",
    "````{tabbed} Euklidisch\n",
    "```{image} ../metrikenDE/egrid.svg\n",
    "```\n",
    "````\n",
    "\n",
    "````{tabbed} Manhattan\n",
    "```{image} ../metrikenDE/mgrid.svg\n",
    "\n",
    "```\n",
    "````\n",
    "\n",
    "\n",
    "````{tabbed} Chebyshev\n",
    "```{image} ../metrikenDE/cgrid.svg\n",
    "```\n",
    "````\n",
    "\n",
    "\n",
    "\n"
   ]
  },
  {
   "cell_type": "markdown",
   "metadata": {},
   "source": [
    "Es fällt auf, dass die Metriken auf den Achsen gleich sind, aber in der Diagonale jeweils andere Abstände liefern. \n",
    "\n",
    "Auch sind sich der euklidische und der Manhattan Abstand vom entstehenden Muster sehr ähnlich, der Chebyshev Abstand ein ganz anderes Muster liefert."
   ]
  },
  {
   "cell_type": "markdown",
   "metadata": {},
   "source": [
    "## Monotonie der Minkowski-Metriken\n",
    "\n",
    "#### Monotonie\n",
    "Seien $1 \\leq p < r \\leq \\infty, M \\neq \\emptyset \\text{ und } x, y \\in M $. \n",
    "\n",
    "Für die Minkowski-Metriken $\\delta_p, \\delta_r$ gilt dann:  \n",
    "\n",
    "$$ \\delta_r(x,y) \\leq \\delta_p(x,y) $$\n",
    " \n",
    "Dies bedeutet, dass durch einen größerer p-Wert dem Abstand ein kleineren Wert zugewiesen werden kann. \n",
    "\n",
    "```{admonition} kann $ \\neq $ muss\n",
    ":class: warning\n",
    "Nicht alle Abstände werden gleich stark von dieser Monotonie beeinflusst und Abstände müssen sich nicht zwangsläufig ändern.\n",
    "Dies wird im nächsten Abschnitt visualisiert werden. \n",
    "```\n"
   ]
  },
  {
   "cell_type": "markdown",
   "metadata": {},
   "source": [
    "#### Visualisierung der Monotonie\n"
   ]
  },
  {
   "cell_type": "markdown",
   "metadata": {},
   "source": [
    "Beterachten wir nun, wie sich die Wahl von $p$ auf die Abstände auswirkt."
   ]
  },
  {
   "cell_type": "markdown",
   "metadata": {},
   "source": [
    "\n",
    "```{raw} html\n",
    ":file: b.html\n",
    "```\n",
    "\n"
   ]
  },
  {
   "cell_type": "markdown",
   "metadata": {},
   "source": [
    "```{admonition} Wichtige Beobachtungen \n",
    ":class: tip\n",
    "Abstände auf den Achsen ändern sich nicht. \n",
    "\n",
    "Die größte Änderung passiert bei einem Winkel von $45°$ zu einer Achse. \n",
    "\n",
    "Mit abnehmendem Winkel zur nähesten Achse nimmt die Änderung ab.\n",
    "\n",
    "Die Abstände konvergieren gegen jene von $d_\\infty$\n",
    "```"
   ]
  },
  {
   "cell_type": "markdown",
   "metadata": {},
   "source": [
    "\n",
    "````{dropdown} beliebeige Abstände\n",
    "Die Monotonie gilt natürlich nicht nur für Abstände zum Null-Punkt. Anbei noch ein Beispiel zur Visualisierung der verringerung des Abstandes zwischen den Punkten [8,1.5] und [-2.5,7]\n",
    "```{raw} html\n",
    ":file: b2.html\n",
    "```\n",
    "````"
   ]
  },
  {
   "cell_type": "markdown",
   "metadata": {},
   "source": [
    "### Einheitssphären\n",
    "Unter Einheits-Kreisen (2D) und Sphären (3D und höher) versteht man die Mengen aller Punkte, dere Abstand zum Nullpunkt 1 ist.\n",
    "\n",
    "Die unten generierten Plots basieren auf von mir erweiterten [Codes](https://mimmackk.github.io/unitball/) und Überlegungen von Kayden Mimmack{cite:ps}`unitsphereplot` "
   ]
  },
  {
   "cell_type": "markdown",
   "metadata": {},
   "source": [
    "````{tabbed} 2D\n",
    "\n",
    "```{raw} html\n",
    ":file: 2d.html\n",
    "```\n",
    "\n",
    "````\n",
    "\n",
    "````{tabbed} 3D\n",
    "```{raw} html\n",
    ":file: 3d.html\n",
    "```\n",
    "\n",
    "````"
   ]
  },
  {
   "cell_type": "markdown",
   "metadata": {},
   "source": [
    "Die \"Expansion\" des Kreises oder der Kugel stellen die vorhin schon gezeigte Verringerung der Abstände; \n",
    "das mit dem Volumen expandierende Innere der Sphäre sind alle Punkte, deren Abstand zu 0 kleiner als 1 ist. \n",
    "\n",
    "```{admonition} Wichtige Beobachtung \n",
    ":class: note\n",
    "Der euklidische Fall ($p = 2$) ist der einzige rotationsinvariante. \n",
    "\n",
    "Eine Rotation der Achsen in allen anderen Fällen könnte die Abstände zwischen Punkten verändern.\n",
    "```"
   ]
  },
  {
   "cell_type": "markdown",
   "metadata": {},
   "source": [
    "## Bedeutung von Metriken\n",
    "\n",
    "Ein Beleg dafür, wie fundamental Distanz Metriken sind ist, dass sie für alle Formeln für Fläche, Volumen, Umfang, Länge usw. und sogar der Zahl $\\pi$  grundlegend sind. \n",
    "\n",
    "Es ist einfach zu übersehen, dass $\\pi $ als Verhältnis vom Unfang und Durchmesser eines Kreises definiert ist und Kreise Menge von Punkten sind, die alle den selben Abstand zu einem Zentrum haben. Der Abstandsbegriff ist hier implizit, und verschiedene Normen liefern uns verschiedene Werte.\n",
    "\n",
    "Die Manhattan und Chebyshev Norm liefern uns mit $ \\pi_1 = \\pi_\\infty = 4 $ die Maxima. Der uns geläufigere Wert von $\\pi_2 = 3.1415...$ ist hierbei auch der Minimale. \n",
    "\n",
    "```{image} ../metrikenDE/pis.svg\n",
    "```\n",
    "\n",
    "Für $p \\in [1,2)$ sinkt der Wert von $\\pi_p$ streng monoton, für $p \\in (2, \\infty)\\cup \\{\\infty\\} $ steigt er hingegen streng monoton und konvergiert zu 4. \n",
    "\n",
    "\n"
   ]
  },
  {
   "cell_type": "markdown",
   "metadata": {},
   "source": [
    "```{admonition} Bedeutung für numerische Verfahren\n",
    ":class: tip\n",
    "Die Wahl von $p$ hat also interessante Implikationen. Da sie Abstände von Punkten, deren Verbindungsgerade nicht parallel zu einer Achse beeinflusst und größere Winkel stärker betrifft kann sie somit Punkte \"näher rücken\". \n",
    "\n",
    "Es ist auch zu bedenken, dass bei einer Verkleinerung geringer Abstände Rundungsfehler bedeutsamer werden.\n",
    "\n",
    "Die relative Größe ist auch von Bedeutung, wenn Daten sehr Nahe aneinander sind, deren Abstand aber wichtig ist, weswegen der Manhattan-Abstand häufig im statistischen Lernen eingesetzt wird{cite:ps}`Goodfellow-et-al-2016`. \n",
    "```"
   ]
  },
  {
   "cell_type": "markdown",
   "metadata": {},
   "source": []
  }
 ],
 "metadata": {
  "interpreter": {
   "hash": "ac59ebe37160ed0dfa835113d9b8498d9f09ceb179beaac4002f036b9467c963"
  },
  "kernelspec": {
   "display_name": "Python 3.9.7 64-bit",
   "language": "python",
   "name": "python3"
  },
  "language_info": {
   "codemirror_mode": {
    "name": "ipython",
    "version": 3
   },
   "file_extension": ".py",
   "mimetype": "text/x-python",
   "name": "python",
   "nbconvert_exporter": "python",
   "pygments_lexer": "ipython3",
   "version": "3.9.7"
  }
 },
 "nbformat": 4,
 "nbformat_minor": 2
}
